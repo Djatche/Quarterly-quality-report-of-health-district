{
 "cells": [
  {
   "cell_type": "code",
   "execution_count": 1,
   "metadata": {},
   "outputs": [
    {
     "name": "stderr",
     "output_type": "stream",
     "text": [
      "\n",
      "Bad key savefig.frameon in file c:\\users\\hp\\appdata\\local\\programs\\python\\python37-32\\lib\\site-packages\\matplotlib\\mpl-data\\stylelib\\_classic_test.mplstyle, line 421 ('savefig.frameon : True')\n",
      "You probably need to get an updated matplotlibrc file from\n",
      "https://github.com/matplotlib/matplotlib/blob/v3.4.3/matplotlibrc.template\n",
      "or from the matplotlib source distribution\n",
      "\n",
      "Bad key verbose.level in file c:\\users\\hp\\appdata\\local\\programs\\python\\python37-32\\lib\\site-packages\\matplotlib\\mpl-data\\stylelib\\_classic_test.mplstyle, line 472 ('verbose.level  : silent      # one of silent, helpful, debug, debug-annoying')\n",
      "You probably need to get an updated matplotlibrc file from\n",
      "https://github.com/matplotlib/matplotlib/blob/v3.4.3/matplotlibrc.template\n",
      "or from the matplotlib source distribution\n",
      "\n",
      "Bad key verbose.fileo in file c:\\users\\hp\\appdata\\local\\programs\\python\\python37-32\\lib\\site-packages\\matplotlib\\mpl-data\\stylelib\\_classic_test.mplstyle, line 473 ('verbose.fileo  : sys.stdout  # a log filename, sys.stdout or sys.stderr')\n",
      "You probably need to get an updated matplotlibrc file from\n",
      "https://github.com/matplotlib/matplotlib/blob/v3.4.3/matplotlibrc.template\n",
      "or from the matplotlib source distribution\n",
      "In c:\\users\\hp\\appdata\\local\\programs\\python\\python37-32\\lib\\site-packages\\matplotlib\\mpl-data\\stylelib\\_classic_test.mplstyle: \n",
      "The text.latex.preview rcparam was deprecated in Matplotlib 3.3 and will be removed two minor releases later.\n",
      "In c:\\users\\hp\\appdata\\local\\programs\\python\\python37-32\\lib\\site-packages\\matplotlib\\mpl-data\\stylelib\\_classic_test.mplstyle: \n",
      "The mathtext.fallback_to_cm rcparam was deprecated in Matplotlib 3.3 and will be removed two minor releases later.\n",
      "In c:\\users\\hp\\appdata\\local\\programs\\python\\python37-32\\lib\\site-packages\\matplotlib\\mpl-data\\stylelib\\_classic_test.mplstyle: Support for setting the 'mathtext.fallback_to_cm' rcParam is deprecated since 3.3 and will be removed two minor releases later; use 'mathtext.fallback : 'cm' instead.\n",
      "In c:\\users\\hp\\appdata\\local\\programs\\python\\python37-32\\lib\\site-packages\\matplotlib\\mpl-data\\stylelib\\_classic_test.mplstyle: \n",
      "The validate_bool_maybe_none function was deprecated in Matplotlib 3.3 and will be removed two minor releases later.\n",
      "In c:\\users\\hp\\appdata\\local\\programs\\python\\python37-32\\lib\\site-packages\\matplotlib\\mpl-data\\stylelib\\_classic_test.mplstyle: \n",
      "The savefig.jpeg_quality rcparam was deprecated in Matplotlib 3.3 and will be removed two minor releases later.\n",
      "In c:\\users\\hp\\appdata\\local\\programs\\python\\python37-32\\lib\\site-packages\\matplotlib\\mpl-data\\stylelib\\_classic_test.mplstyle: \n",
      "The keymap.all_axes rcparam was deprecated in Matplotlib 3.3 and will be removed two minor releases later.\n",
      "In c:\\users\\hp\\appdata\\local\\programs\\python\\python37-32\\lib\\site-packages\\matplotlib\\mpl-data\\stylelib\\_classic_test.mplstyle: \n",
      "The animation.avconv_path rcparam was deprecated in Matplotlib 3.3 and will be removed two minor releases later.\n",
      "In c:\\users\\hp\\appdata\\local\\programs\\python\\python37-32\\lib\\site-packages\\matplotlib\\mpl-data\\stylelib\\_classic_test.mplstyle: \n",
      "The animation.avconv_args rcparam was deprecated in Matplotlib 3.3 and will be removed two minor releases later.\n"
     ]
    }
   ],
   "source": [
    "import pandas as pd\n",
    "import matplotlib.pyplot as plt\n",
    "import numpy as np\n",
    "import seaborn as sns\n",
    "%matplotlib inline\n",
    "\n",
    "import warnings\n",
    "warnings.filterwarnings(\"ignore\")"
   ]
  },
  {
   "cell_type": "code",
   "execution_count": 2,
   "metadata": {},
   "outputs": [],
   "source": [
    "scores = pd.read_csv(\"data_pbf_T3_2021_DS_YOKO.csv\")"
   ]
  },
  {
   "cell_type": "code",
   "execution_count": 3,
   "metadata": {},
   "outputs": [
    {
     "data": {
      "text/plain": [
       "(192, 283)"
      ]
     },
     "execution_count": 3,
     "metadata": {},
     "output_type": "execute_result"
    }
   ],
   "source": [
    "scores.shape"
   ]
  },
  {
   "cell_type": "code",
   "execution_count": 4,
   "metadata": {},
   "outputs": [
    {
     "data": {
      "text/html": [
       "<div>\n",
       "<style scoped>\n",
       "    .dataframe tbody tr th:only-of-type {\n",
       "        vertical-align: middle;\n",
       "    }\n",
       "\n",
       "    .dataframe tbody tr th {\n",
       "        vertical-align: top;\n",
       "    }\n",
       "\n",
       "    .dataframe thead th {\n",
       "        text-align: right;\n",
       "    }\n",
       "</style>\n",
       "<table border=\"1\" class=\"dataframe\">\n",
       "  <thead>\n",
       "    <tr style=\"text-align: right;\">\n",
       "      <th></th>\n",
       "      <th>organisationunitid</th>\n",
       "      <th>organisationunitname</th>\n",
       "      <th>organisationunitcode</th>\n",
       "      <th>organisationunitdescription</th>\n",
       "      <th>periodid</th>\n",
       "      <th>periodname</th>\n",
       "      <th>periodcode</th>\n",
       "      <th>perioddescription</th>\n",
       "      <th>QOC-PMA-1.1-Carte sanitaire de l’aire de santé disponible et affichée (format A3 au moins)</th>\n",
       "      <th>QOC-PMA-1.10-Disponibilité de radio ou téléphone portable</th>\n",
       "      <th>...</th>\n",
       "      <th>QoC-PMA-Points - Maternité</th>\n",
       "      <th>QoC-PMA-Points - Médicaments traceurs</th>\n",
       "      <th>QoC-PMA-Points - Partie financière</th>\n",
       "      <th>QoC-PMA-Points - Petite chirurgie</th>\n",
       "      <th>QoC-PMA-Points - Plan d’action</th>\n",
       "      <th>QoC-PMA-Points - Plan d’action trimestriel</th>\n",
       "      <th>QoC-PMA-Points - Planification Familiale</th>\n",
       "      <th>QoC-PMA-Points - Salle d’hospitalisation</th>\n",
       "      <th>QoC-PMA-Points - Tuberculose</th>\n",
       "      <th>QoC-PMA-Points - Vaccination</th>\n",
       "    </tr>\n",
       "  </thead>\n",
       "  <tbody>\n",
       "    <tr>\n",
       "      <th>0</th>\n",
       "      <td>jTZJb71AfvU</td>\n",
       "      <td>CMA Ngambe Tikar</td>\n",
       "      <td>CMA Ngambe Tikar</td>\n",
       "      <td>CMA Ngambe Tikar</td>\n",
       "      <td>2021Q1</td>\n",
       "      <td>Jan to Mar 2021</td>\n",
       "      <td>2021Q1</td>\n",
       "      <td>NaN</td>\n",
       "      <td>1.0</td>\n",
       "      <td>1.0</td>\n",
       "      <td>...</td>\n",
       "      <td>NaN</td>\n",
       "      <td>NaN</td>\n",
       "      <td>NaN</td>\n",
       "      <td>NaN</td>\n",
       "      <td>NaN</td>\n",
       "      <td>NaN</td>\n",
       "      <td>NaN</td>\n",
       "      <td>NaN</td>\n",
       "      <td>NaN</td>\n",
       "      <td>NaN</td>\n",
       "    </tr>\n",
       "    <tr>\n",
       "      <th>1</th>\n",
       "      <td>jTZJb71AfvU</td>\n",
       "      <td>CMA Ngambe Tikar</td>\n",
       "      <td>CMA Ngambe Tikar</td>\n",
       "      <td>CMA Ngambe Tikar</td>\n",
       "      <td>2021Q2</td>\n",
       "      <td>Apr to Jun 2021</td>\n",
       "      <td>2021Q2</td>\n",
       "      <td>NaN</td>\n",
       "      <td>1.0</td>\n",
       "      <td>1.0</td>\n",
       "      <td>...</td>\n",
       "      <td>NaN</td>\n",
       "      <td>NaN</td>\n",
       "      <td>NaN</td>\n",
       "      <td>NaN</td>\n",
       "      <td>NaN</td>\n",
       "      <td>NaN</td>\n",
       "      <td>NaN</td>\n",
       "      <td>NaN</td>\n",
       "      <td>NaN</td>\n",
       "      <td>NaN</td>\n",
       "    </tr>\n",
       "    <tr>\n",
       "      <th>2</th>\n",
       "      <td>jTZJb71AfvU</td>\n",
       "      <td>CMA Ngambe Tikar</td>\n",
       "      <td>CMA Ngambe Tikar</td>\n",
       "      <td>CMA Ngambe Tikar</td>\n",
       "      <td>2021Q3</td>\n",
       "      <td>Jul to Sep 2021</td>\n",
       "      <td>2021Q3</td>\n",
       "      <td>NaN</td>\n",
       "      <td>1.0</td>\n",
       "      <td>1.0</td>\n",
       "      <td>...</td>\n",
       "      <td>NaN</td>\n",
       "      <td>NaN</td>\n",
       "      <td>NaN</td>\n",
       "      <td>NaN</td>\n",
       "      <td>NaN</td>\n",
       "      <td>NaN</td>\n",
       "      <td>NaN</td>\n",
       "      <td>NaN</td>\n",
       "      <td>NaN</td>\n",
       "      <td>NaN</td>\n",
       "    </tr>\n",
       "    <tr>\n",
       "      <th>3</th>\n",
       "      <td>jTZJb71AfvU</td>\n",
       "      <td>CMA Ngambe Tikar</td>\n",
       "      <td>CMA Ngambe Tikar</td>\n",
       "      <td>CMA Ngambe Tikar</td>\n",
       "      <td>2021Q4</td>\n",
       "      <td>Oct to Dec 2021</td>\n",
       "      <td>2021Q4</td>\n",
       "      <td>NaN</td>\n",
       "      <td>NaN</td>\n",
       "      <td>NaN</td>\n",
       "      <td>...</td>\n",
       "      <td>NaN</td>\n",
       "      <td>NaN</td>\n",
       "      <td>NaN</td>\n",
       "      <td>NaN</td>\n",
       "      <td>NaN</td>\n",
       "      <td>NaN</td>\n",
       "      <td>NaN</td>\n",
       "      <td>NaN</td>\n",
       "      <td>NaN</td>\n",
       "      <td>NaN</td>\n",
       "    </tr>\n",
       "    <tr>\n",
       "      <th>4</th>\n",
       "      <td>jTZJb71AfvU</td>\n",
       "      <td>CMA Ngambe Tikar</td>\n",
       "      <td>CMA Ngambe Tikar</td>\n",
       "      <td>CMA Ngambe Tikar</td>\n",
       "      <td>2020Q1</td>\n",
       "      <td>Jan to Mar 2020</td>\n",
       "      <td>2020Q1</td>\n",
       "      <td>NaN</td>\n",
       "      <td>1.0</td>\n",
       "      <td>1.0</td>\n",
       "      <td>...</td>\n",
       "      <td>NaN</td>\n",
       "      <td>NaN</td>\n",
       "      <td>NaN</td>\n",
       "      <td>NaN</td>\n",
       "      <td>NaN</td>\n",
       "      <td>NaN</td>\n",
       "      <td>NaN</td>\n",
       "      <td>NaN</td>\n",
       "      <td>NaN</td>\n",
       "      <td>NaN</td>\n",
       "    </tr>\n",
       "  </tbody>\n",
       "</table>\n",
       "<p>5 rows × 283 columns</p>\n",
       "</div>"
      ],
      "text/plain": [
       "  organisationunitid organisationunitname organisationunitcode  \\\n",
       "0        jTZJb71AfvU     CMA Ngambe Tikar     CMA Ngambe Tikar   \n",
       "1        jTZJb71AfvU     CMA Ngambe Tikar     CMA Ngambe Tikar   \n",
       "2        jTZJb71AfvU     CMA Ngambe Tikar     CMA Ngambe Tikar   \n",
       "3        jTZJb71AfvU     CMA Ngambe Tikar     CMA Ngambe Tikar   \n",
       "4        jTZJb71AfvU     CMA Ngambe Tikar     CMA Ngambe Tikar   \n",
       "\n",
       "  organisationunitdescription periodid       periodname periodcode  \\\n",
       "0            CMA Ngambe Tikar   2021Q1  Jan to Mar 2021     2021Q1   \n",
       "1            CMA Ngambe Tikar   2021Q2  Apr to Jun 2021     2021Q2   \n",
       "2            CMA Ngambe Tikar   2021Q3  Jul to Sep 2021     2021Q3   \n",
       "3            CMA Ngambe Tikar   2021Q4  Oct to Dec 2021     2021Q4   \n",
       "4            CMA Ngambe Tikar   2020Q1  Jan to Mar 2020     2020Q1   \n",
       "\n",
       "   perioddescription  \\\n",
       "0                NaN   \n",
       "1                NaN   \n",
       "2                NaN   \n",
       "3                NaN   \n",
       "4                NaN   \n",
       "\n",
       "   QOC-PMA-1.1-Carte sanitaire de l’aire de santé disponible et affichée (format A3 au moins)  \\\n",
       "0                                                1.0                                            \n",
       "1                                                1.0                                            \n",
       "2                                                1.0                                            \n",
       "3                                                NaN                                            \n",
       "4                                                1.0                                            \n",
       "\n",
       "   QOC-PMA-1.10-Disponibilité de radio ou téléphone portable  ...  \\\n",
       "0                                                1.0          ...   \n",
       "1                                                1.0          ...   \n",
       "2                                                1.0          ...   \n",
       "3                                                NaN          ...   \n",
       "4                                                1.0          ...   \n",
       "\n",
       "   QoC-PMA-Points - Maternité  QoC-PMA-Points - Médicaments traceurs  \\\n",
       "0                         NaN                                    NaN   \n",
       "1                         NaN                                    NaN   \n",
       "2                         NaN                                    NaN   \n",
       "3                         NaN                                    NaN   \n",
       "4                         NaN                                    NaN   \n",
       "\n",
       "   QoC-PMA-Points - Partie financière  QoC-PMA-Points - Petite chirurgie  \\\n",
       "0                                 NaN                                NaN   \n",
       "1                                 NaN                                NaN   \n",
       "2                                 NaN                                NaN   \n",
       "3                                 NaN                                NaN   \n",
       "4                                 NaN                                NaN   \n",
       "\n",
       "   QoC-PMA-Points - Plan d’action  QoC-PMA-Points - Plan d’action trimestriel  \\\n",
       "0                             NaN                                         NaN   \n",
       "1                             NaN                                         NaN   \n",
       "2                             NaN                                         NaN   \n",
       "3                             NaN                                         NaN   \n",
       "4                             NaN                                         NaN   \n",
       "\n",
       "   QoC-PMA-Points - Planification Familiale  \\\n",
       "0                                       NaN   \n",
       "1                                       NaN   \n",
       "2                                       NaN   \n",
       "3                                       NaN   \n",
       "4                                       NaN   \n",
       "\n",
       "   QoC-PMA-Points - Salle d’hospitalisation  QoC-PMA-Points - Tuberculose  \\\n",
       "0                                       NaN                           NaN   \n",
       "1                                       NaN                           NaN   \n",
       "2                                       NaN                           NaN   \n",
       "3                                       NaN                           NaN   \n",
       "4                                       NaN                           NaN   \n",
       "\n",
       "   QoC-PMA-Points - Vaccination  \n",
       "0                           NaN  \n",
       "1                           NaN  \n",
       "2                           NaN  \n",
       "3                           NaN  \n",
       "4                           NaN  \n",
       "\n",
       "[5 rows x 283 columns]"
      ]
     },
     "execution_count": 4,
     "metadata": {},
     "output_type": "execute_result"
    }
   ],
   "source": [
    "scores.head()"
   ]
  },
  {
   "cell_type": "code",
   "execution_count": 5,
   "metadata": {},
   "outputs": [],
   "source": [
    "from pbf_dict_columns import dict_cols"
   ]
  },
  {
   "cell_type": "code",
   "execution_count": 6,
   "metadata": {},
   "outputs": [],
   "source": [
    "indicateurs = list(dict_cols.keys())"
   ]
  },
  {
   "cell_type": "code",
   "execution_count": 7,
   "metadata": {},
   "outputs": [],
   "source": [
    "new_indicateurs = list(dict_cols.values())"
   ]
  },
  {
   "cell_type": "code",
   "execution_count": 8,
   "metadata": {},
   "outputs": [],
   "source": [
    "def get_category(indicator):\n",
    "    col = indicator.split('.')[0]\n",
    "    if col == \"QOC-PMA-1\":\n",
    "        return \"Indicateurs généraux\"\n",
    "    elif col == \"QOC-PMA-2\":\n",
    "        return \"Business plan trimestriel\"\n",
    "    elif col == \"QOC-PMA-3\":\n",
    "        return \"Partie financière\"\n",
    "    elif col == \"QOC-PMA-4\":\n",
    "        return \"Hygiène et stérilisation\"        \n",
    "    elif col == \"QOC-PMA-5\":\n",
    "        return \"Consultation externe\"\n",
    "    elif col == \"QOC-PMA-6\":\n",
    "        return \"Planification familiale\"  \n",
    "    elif col == \"QOC-PMA-7\":\n",
    "        return \"Laboratoire\"\n",
    "    elif col == \"QOC-PMA-8\":\n",
    "        return \"Salle d'hospitalisation\"\n",
    "    elif col == \"QOC-PMA-9\":\n",
    "        return \"Gestion des médicaments\"\n",
    "    elif col == \"QOC-PMA-10\":\n",
    "        return \"Médicaments traceurs\"\n",
    "    elif col == \"QOC-PMA-11\":\n",
    "        return \"Maternité\"\n",
    "    elif col == \"QOC-PMA-12\":\n",
    "        return \"Petite chirurgie\"\n",
    "    elif col == \"QOC-PMA-13\":\n",
    "        return \"TB\"\n",
    "    elif col == \"QOC-PMA-14\":\n",
    "        return \"Vaccination\"\n",
    "    elif col == \"QOC-PMA-15\":\n",
    "        return \"CPN\"\n",
    "    elif col == \"QOC-PMA-16\":\n",
    "        return \"VIH\"\n",
    "    elif col == \"QOC-PMA-17\":\n",
    "        return \"PBF communautaire\"\n",
    "    elif col == \"QOC-PMA-18\":\n",
    "        return \"Malnutrition\"\n",
    "    elif col == \"QOC-PMA-19\":\n",
    "        return \"Etat civil\"\n",
    "    else:\n",
    "        return \"Infos_FOSA_periode\""
   ]
  },
  {
   "cell_type": "code",
   "execution_count": 9,
   "metadata": {},
   "outputs": [],
   "source": [
    "dict_cat = {}\n",
    "for c in indicateurs:\n",
    "    if get_category(c):\n",
    "        dict_cat[c] = get_category(c)"
   ]
  },
  {
   "cell_type": "code",
   "execution_count": 10,
   "metadata": {},
   "outputs": [],
   "source": [
    "unique_categories = set(dict_cat.values())"
   ]
  },
  {
   "cell_type": "code",
   "execution_count": 11,
   "metadata": {},
   "outputs": [],
   "source": [
    "unique_categories = list(unique_categories)"
   ]
  },
  {
   "cell_type": "code",
   "execution_count": 12,
   "metadata": {},
   "outputs": [
    {
     "data": {
      "text/plain": [
       "['Médicaments traceurs',\n",
       " 'Vaccination',\n",
       " 'Consultation externe',\n",
       " 'Etat civil',\n",
       " 'PBF communautaire',\n",
       " 'Malnutrition',\n",
       " 'CPN',\n",
       " 'Infos_FOSA_periode',\n",
       " 'VIH',\n",
       " 'Petite chirurgie',\n",
       " \"Salle d'hospitalisation\",\n",
       " 'Indicateurs généraux',\n",
       " 'Planification familiale',\n",
       " 'Business plan trimestriel',\n",
       " 'Hygiène et stérilisation',\n",
       " 'TB',\n",
       " 'Gestion des médicaments',\n",
       " 'Maternité',\n",
       " 'Partie financière',\n",
       " 'Laboratoire']"
      ]
     },
     "execution_count": 12,
     "metadata": {},
     "output_type": "execute_result"
    }
   ],
   "source": [
    "unique_categories"
   ]
  },
  {
   "cell_type": "code",
   "execution_count": 13,
   "metadata": {},
   "outputs": [],
   "source": [
    "def get_category_indicator_list(cat):\n",
    "    ind_cat_list = []\n",
    "    for k, v in dict_cat.items():\n",
    "        if v == cat:\n",
    "            ind_cat_list.append(k)\n",
    "    return ind_cat_list"
   ]
  },
  {
   "cell_type": "code",
   "execution_count": 14,
   "metadata": {},
   "outputs": [],
   "source": [
    "indicateurs_cs_externe_list = get_category_indicator_list(\"Consultation externe\")"
   ]
  },
  {
   "cell_type": "code",
   "execution_count": 15,
   "metadata": {},
   "outputs": [],
   "source": [
    "indicateurs_pf_list = get_category_indicator_list('Planification familiale')"
   ]
  },
  {
   "cell_type": "code",
   "execution_count": 16,
   "metadata": {},
   "outputs": [],
   "source": [
    "indicateurs_labo_list = get_category_indicator_list(\"Laboratoire\")"
   ]
  },
  {
   "cell_type": "code",
   "execution_count": 17,
   "metadata": {},
   "outputs": [],
   "source": [
    "indicateurs_hospi_list = get_category_indicator_list(\"Salle d'hospitalisation\")"
   ]
  },
  {
   "cell_type": "code",
   "execution_count": 18,
   "metadata": {},
   "outputs": [],
   "source": [
    "indicateurs_gest_med_list = get_category_indicator_list(\"Gestion des médicaments\")"
   ]
  },
  {
   "cell_type": "code",
   "execution_count": 19,
   "metadata": {},
   "outputs": [],
   "source": [
    "indicateurs_med_traceurs_list = get_category_indicator_list(\"Médicaments traceurs\")"
   ]
  },
  {
   "cell_type": "code",
   "execution_count": 20,
   "metadata": {},
   "outputs": [],
   "source": [
    "indicateurs_maternite_list = get_category_indicator_list(\"Maternité\")"
   ]
  },
  {
   "cell_type": "code",
   "execution_count": 21,
   "metadata": {},
   "outputs": [],
   "source": [
    "indicateurs_petite_chirurgie_list = get_category_indicator_list(\"Petite chirurgie\")"
   ]
  },
  {
   "cell_type": "code",
   "execution_count": 22,
   "metadata": {},
   "outputs": [],
   "source": [
    "indicateurs_TB_list = get_category_indicator_list(\"TB\")"
   ]
  },
  {
   "cell_type": "code",
   "execution_count": 23,
   "metadata": {},
   "outputs": [],
   "source": [
    "indicateurs_vaccinations_list = get_category_indicator_list(\"Vaccination\")"
   ]
  },
  {
   "cell_type": "code",
   "execution_count": 24,
   "metadata": {},
   "outputs": [],
   "source": [
    "indicateurs_cpn_list = get_category_indicator_list(\"CPN\")"
   ]
  },
  {
   "cell_type": "code",
   "execution_count": 25,
   "metadata": {},
   "outputs": [],
   "source": [
    "indicateurs_vih_list = get_category_indicator_list(\"VIH\")"
   ]
  },
  {
   "cell_type": "code",
   "execution_count": 26,
   "metadata": {},
   "outputs": [],
   "source": [
    "indicateurs_pbf_communautaire_list = get_category_indicator_list(\"PBF communautaire\")"
   ]
  },
  {
   "cell_type": "code",
   "execution_count": 27,
   "metadata": {},
   "outputs": [],
   "source": [
    "indicateurs_malnutrition_list = get_category_indicator_list(\"Malnutrition\")"
   ]
  },
  {
   "cell_type": "code",
   "execution_count": 28,
   "metadata": {},
   "outputs": [],
   "source": [
    "indicateurs_etat_civil_list = get_category_indicator_list(\"Etat civil\")"
   ]
  },
  {
   "cell_type": "code",
   "execution_count": 29,
   "metadata": {},
   "outputs": [],
   "source": [
    "indicateurs_generaux_list = get_category_indicator_list(\"Indicateurs généraux\")"
   ]
  },
  {
   "cell_type": "code",
   "execution_count": 30,
   "metadata": {},
   "outputs": [],
   "source": [
    "indicateurs_FOSA_periode_list = get_category_indicator_list(\"Infos_FOSA_periode\")"
   ]
  },
  {
   "cell_type": "code",
   "execution_count": 31,
   "metadata": {},
   "outputs": [],
   "source": [
    "indicateurs_business_plan_trimestriel_list = get_category_indicator_list(\"Business plan trimestriel\")"
   ]
  },
  {
   "cell_type": "code",
   "execution_count": 32,
   "metadata": {},
   "outputs": [],
   "source": [
    "indicateurs_partie_financière_list = get_category_indicator_list(\"Partie financière\")"
   ]
  },
  {
   "cell_type": "code",
   "execution_count": 33,
   "metadata": {},
   "outputs": [],
   "source": [
    "indicateurs_hygiene_sterilisation_list = get_category_indicator_list(\"Hygiène et stérilisation\")"
   ]
  },
  {
   "cell_type": "code",
   "execution_count": 34,
   "metadata": {},
   "outputs": [],
   "source": [
    "indicateurs_all_cat_list = indicateurs_business_plan_trimestriel_list + indicateurs_cpn_list + indicateurs_cs_externe_list + indicateurs_etat_civil_list + indicateurs_generaux_list + indicateurs_gest_med_list + indicateurs_hospi_list + indicateurs_hygiene_sterilisation_list + indicateurs_labo_list + indicateurs_malnutrition_list + indicateurs_maternite_list + indicateurs_med_traceurs_list + indicateurs_partie_financière_list + indicateurs_pbf_communautaire_list + indicateurs_petite_chirurgie_list + indicateurs_pf_list + indicateurs_vaccinations_list + indicateurs_vih_list"
   ]
  },
  {
   "cell_type": "code",
   "execution_count": 35,
   "metadata": {},
   "outputs": [
    {
     "data": {
      "text/plain": [
       "['QOC-PMA-2.1-Business plan trimestriel de la FS disponible et accessible',\n",
       " 'QOC-PMA-2.2-Plan d’action élaboré avec les acteurs clés',\n",
       " 'QOC-PMA-2.3-Rapports mensuels d’analyse de réalisations du business plan',\n",
       " 'QOC-PMA-2.4-Les cinq problèmes clés du Business Plan du trimestre dernier ont été réalisés à au moins 80%',\n",
       " 'QOC-PMA-15.1-Plan de préparation à l’accouchement disponible et suivis',\n",
       " 'QOC-PMA-15.2-Pèse personne bien réglé à zéro (pèse personne propre pour la CPN)',\n",
       " 'QOC-PMA-15.3-Ruban PB disponible et en bon état (bonne lisibilité)',\n",
       " \"QOC-PMA-15.4-Détermination de l'état nutritionnel de toute femme en CPN\",\n",
       " 'QOC-PMA-15.5-Fiche CPN (pour la FS) disponible et bien remplie',\n",
       " 'QOC-PMA-15.6-Fiche et Registre CPN (pour la FS) montre l’administration de Fer Folate), TPI et VAT',\n",
       " 'QOC-PMA-15.7-Carnet de la CPN (pour la maman) disponible',\n",
       " 'QOC-PMA-15.8-Registre de la CPN disponible et bien rempli',\n",
       " 'QOC-PMA-5.1-Bonnes conditions d’attente pour la Consultation Externe',\n",
       " 'QOC-PMA-5.2-Les tarifs du recouvrement de coût de tous les actes et de tous les services sont affichés à l’extérieur et en salle d’attente',\n",
       " 'QOC-PMA-5.3-Existence d’un système de triage avec des jetons numérotés à l’accueil',\n",
       " 'QOC-PMA-5.4-Salle de la Consultation Externe en bon état et propre',\n",
       " 'QOC-PMA-5.5-Salle de la CE et l’espace d’attente séparés assurant la confidentialité',\n",
       " 'QOC-PMA-5.6-Salle de la CE et / ou d’urgence éclairée pendant la nuit',\n",
       " 'QOC-PMA-5.7-Toutes les CE sont faites par un infirmier qualifié (au moins IDE)',\n",
       " 'QOC-PMA-5.8-Le personnel est en tenue conforme',\n",
       " 'QOC-PMA-5.9-La numérotation mensuelle correcte dans le registre de CE',\n",
       " 'QOC-PMA-5.10-Disponibilité de services 7 / 7 jours et 24h/24',\n",
       " 'QOC-PMA-5.11-Protocole affiché sur le mur pour la prise en charge du paludisme',\n",
       " 'QOC-PMA-5.12-La prise en charge correcte du paludisme simple',\n",
       " 'QOC-PMA-5.13-La prise en charge correcte du paludisme grave',\n",
       " 'QOC-PMA-5.14-La prise en charge correcte des Infection Respiratoire Aigue (IRA)',\n",
       " 'QOC-PMA-5.15-La prise en charge correcte de la diarrhée',\n",
       " 'QOC-PMA-5.16-La proportion de malades traités avec des antibiotiques < 50%',\n",
       " 'QOC-PMA-5.17-La recherche de la Tuberculose (TBC) chez les tousseurs chroniques',\n",
       " 'QOC-PMA-5.18-Elaboration de courbes d’évolution en couverture contraceptive, vaccinale, consultation curative et à jour et affichée sur le mur',\n",
       " 'QOC-PMA-5.19-Disponibilité de stéthoscope / tensiomètre fonctionnel en salle de consultation externe',\n",
       " 'QOC-PMA-5.20-Disponibilité de thermomètre fonctionnel en salle de consultation externe',\n",
       " 'QOC-PMA-5.21-Disponibilité d’otoscope auriculaires en salle de CE',\n",
       " 'QOC-PMA-5.22-Disponibilité d’un pèse bébé en bon état et fonctionnel en salle de CE',\n",
       " 'QOC-PMA-5.23-Lit d’examen disponible (métallique) avec matelas et toile cirée non déchirée',\n",
       " 'QOC-PMA-5.24-Disponibilité d’un pèse personne fonctionnel',\n",
       " 'QOC-PMA-5.25-Disponibilité d’abaisse langue',\n",
       " 'QOC-PMA-5.26-Recherche et investigation des maladies sous surveillance',\n",
       " \"QOC-PMA-5.27-Disponibilité d'une toise en bon état (bien lisible)\",\n",
       " 'QOC-PMA-5.28-Disponibilité des tables de rapport Poids/Taille en salle de CE',\n",
       " \"QOC-PMA-5.29-Détermination de l'état nutritionnel de tous les enfants de moins de 5 ans qui viennent en consultation et en vaccination\",\n",
       " 'QOC-PMA-19.1-Information des usagers',\n",
       " 'QOC-PMA-19.2-Registres de déclaration des faits d’état civil disponibles (naissances décès), bien tenus et à jour',\n",
       " 'QOC-PMA-19.3-Déclaration des naissances',\n",
       " 'QOC-PMA-19.4-Déclaration de décès',\n",
       " 'QOC-PMA-1.1-Carte sanitaire de l’aire de santé disponible et affichée (format A3 au moins)',\n",
       " 'QOC-PMA-1.2-La carte sanitaire comporte les centres d’état civil principaux et secondaires de l’aire de santé',\n",
       " 'QOC-PMA-1.3-Rapports mensuels  (RMA, PEV, PTME PALU, SR,  AVP, CDV, MAPE hebdomadaire, grilles d’évaluation qualité des FOSA par le régulateur)',\n",
       " 'QOC-PMA-1.4-Au moins 80 % des recommandations formulées lors de l’évaluation qualité du trimestre dernier ont été appliqués',\n",
       " 'QOC-PMA-1.5-La FOSA a renseigné les données du RMA  pour les 3 derniers mois dans le DHIS 2 du SNIS au moins 80 % des recommandations formulées lors de l’évaluation qualité du trimestre dernier ont été appliqués',\n",
       " 'QOC-PMA-1.6-Horaire du travail et planning de garde disponible et affiché dans tous les services y compris le bureau du chef de centre',\n",
       " 'QOC-PMA-1.7-La FOSA dispose d’un plan de développement d’infrastructure',\n",
       " 'QOC-PMA-1.8-Procès-verbal des réunions techniques de la FS fait mensuellement et disponible',\n",
       " 'QOC-PMA-1.9-Fiches de référence vierges disponible (au moins 10)',\n",
       " 'QOC-PMA-1.10-Disponibilité de radio ou téléphone portable',\n",
       " 'QOC-PMA-1.11-Cuisine pour les patients hospitalisés est disponible et propre',\n",
       " 'QOC-PMA-1.12-Disponibilité d’une morgue/ chambre mortuaire',\n",
       " 'QOC-PMA-9.1-Le stock de la pharmacie est constitué d’au moins de 90% de médicaments essentiels génériques de la liste des médicaments essentiels de son niveau',\n",
       " 'QOC-PMA-9.2-Personnel tient les outils de gestion des médicaments',\n",
       " 'QOC-PMA-9.3-La formation sanitaire s’approvisionne auprès des établissements pharmaceutiques ou de vente en gros figurant dans la liste nationale actualisée',\n",
       " 'QOC-PMA-9.4-Les médicaments sont gardés correctement',\n",
       " 'QOC-PMA-9.5-La pharmacie dépôt livre journalièrement les médicaments selon la réquisition du service de distribution des médicaments',\n",
       " 'QOC-PMA-9.6-Absence médicaments périmés ou avec des étiquettes falsifiées',\n",
       " 'QOC-PMA-9.7-Lieu de distribution de médicaments',\n",
       " 'QOC-PMA-9.8-Pharmacie tenue par au moins un commis de pharmacie formé ou un technicien en pharmacie ou un pharmacien',\n",
       " 'QOC-PMA-8.1-Equipements disponibles propre et en bon état',\n",
       " 'QOC-PMA-8.2-Bonnes conditions d’hygiène',\n",
       " 'QOC-PMA-8.3-Salle d’hospitalisation éclairée pendant la nuit',\n",
       " 'QOC-PMA-8.4-Confidentialité assurée',\n",
       " 'QOC-PMA-8.5-Registre(s) d’hospitalisation(s) disponible et bien rempli sans surcharge, numéroté et clôturé à la fin de chaque mois',\n",
       " 'QOC-PMA-8.6-Fiches d’hospitalisation disponibles et bien remplies selon les normes et techniques de gestion',\n",
       " 'QOC-PMA-4.1-Clôture disponible et bien entretenu',\n",
       " 'QOC-PMA-4.2-Disponibilité de poubelle dans la cour',\n",
       " 'QOC-PMA-4.3-Existence d’un système de tri de déchet appliqué',\n",
       " 'QOC-PMA-4.4-Présence de latrines ou toilettes en nombre suffisant et en bon état avec à proximité un dispositif lave main',\n",
       " 'QOC-PMA-4.5-Présence de douches en nombre suffisant et en bon état',\n",
       " 'QOC-PMA-4.6-Incinérateur répondant aux normes et fosse à placenta avec couvercle et dans un enclos',\n",
       " 'QOC-PMA-4.7-Fosse à déchet de matériels non infectés disponibles',\n",
       " 'QOC-PMA-4.8-Propreté de la cour',\n",
       " 'QOC-PMA-4.9-Entretien de la cour',\n",
       " 'QOC-PMA-4.10-Le personnel stérilise les instruments selon les normes',\n",
       " 'QOC-PMA-4.11-Conditions d’hygiène assurées dans la salle de soins',\n",
       " 'QOC-PMA-7.1-Laborantin d’au moins niveau ATMS disponible',\n",
       " 'QOC-PMA-7.10-Présence d’au moins 10 tests de grossesse dans la FOSA.',\n",
       " 'QOC-PMA-7.2-Le laboratoire est fonctionnel tous les jours de la semaine',\n",
       " 'QOC-PMA-7.3-Résultats enregistrés correctement dans le registre du laboratoire',\n",
       " 'QOC-PMA-7.4-Liste des examens possibles affichée dans le laboratoire',\n",
       " 'QOC-PMA-7.5-Disponibilité des démonstrations des formes des parasites',\n",
       " 'QOC-PMA-7.6-Disponibilité d’un microscope fonctionnel',\n",
       " 'QOC-PMA-7.7-Disponibilité d’une centrifugeuse fonctionnelle',\n",
       " 'QOC-PMA-7.8-Environnement : propreté de la table de coloration, de prélèvement et du laboratoire en général',\n",
       " 'QOC-PMA-7.9-Personnel plonge les lames et pipettes souillés dans un récipient contenant une solution de décontamination (protocole affiché)',\n",
       " 'QOC-PMA-18.1-Registre de prise en charge de la malnutrition',\n",
       " 'QOC-PMA-18.2-Le personnel du CNA (Centre Nutritionnel en Ambulatoire ) maitrise la prise en charge des malnutris selon programmes de lutte contre la malnutrition',\n",
       " 'QOC-PMA-18.3-Existence de matériel et des outils d’évaluation du statut nutritionnel fonctionnel',\n",
       " 'QOC-PMA-18.4-Conditions d’hygiène assurées dans l’espace dédié au CNAS',\n",
       " 'QOC-PMA-18.5-Présence d’un stock sécurité des intrants de prise en charge de la malnutrition aigüe sévère sans complications',\n",
       " 'QOC-PMA-18.6-Respect du protocole de prise en charge de la Malnutrition Aigüe',\n",
       " 'QOC-PMA-18.7-Absence de publicité sur les substituts du lait maternel (SLM)',\n",
       " 'QOC-PMA-18.8-Registre de suivi de la croissance des enfants disponible',\n",
       " 'QOC-PMA-11.1-L’eau suffisante avec savon dans la salle d’accouchement',\n",
       " 'QOC-PMA-11.2-Salle d’accouchement éclairée',\n",
       " 'QOC-PMA-11.3-Déchets collectés correctement dans la salle d’accouchement',\n",
       " 'QOC-PMA-11.4-Salle d’Accouchement en bon étatt',\n",
       " 'QOC-PMA-11.5-Disponibilité du partogramme',\n",
       " 'QOC-PMA-11.6-Partogrammes correctement remplis',\n",
       " 'QOC-PMA-11.7-Tous les accouchements effectués par un personnel qualifié (au moins IBA)',\n",
       " 'QOC-PMA-11.8-Disponibilité d’une toise d’un stéthoscope obstétrical, mètre ruban,',\n",
       " 'QOC-PMA-11.9-Disponibilité d’une ventouse obstétricale fonctionnelle',\n",
       " 'QOC-PMA-11.10-Disponibilité d’une seringue d’AMNIO fonctionnelle',\n",
       " 'QOC-PMA-11.11-Disponibilité des gants médicaux stériles.',\n",
       " 'QOC-PMA-11.12-Disponibilité d’au moins 2 boites d’accouchement stérilisées',\n",
       " 'QOC-PMA-11.13-Disponibilité de deux boites d’épisiotomie dont une stérile',\n",
       " 'QOC-PMA-11.14-Table d’accouchement en bon état',\n",
       " 'QOC-PMA-11.15-Disponibilité d’un pèse bébé fonctionnel',\n",
       " 'QOC-PMA-11.16-Matériel disponible pour les soins aux nouveaux nés',\n",
       " 'QOC-PMA-11.17-Seau ou bassin à linge souillé disponible',\n",
       " 'QOC-PMA-11.18-Disponibilité de moustiquaires dans la salle d’hospitalisation',\n",
       " 'QOC-PMA-11.19-Lits avec matelas et literie en bon état dans la salle d’hospitalisation',\n",
       " 'QOC-PMA-11.20-Salle de travail adéquate',\n",
       " 'QOC-PMA-11.21-Surveillance du Postpartum immédiat (des 6 H )',\n",
       " 'QOC-PMA-11.22-Registre d’accouchement disponible et bien rempli sur les 3 derniers mois',\n",
       " 'QOC-PMA-11.23-Les tarifs du recouvrement de coût pour les soins obstétricaux sont affichés',\n",
       " 'QOC-PMA-10.1-Amoxicilline caps /comp 500 mg',\n",
       " 'QOC-PMA-10.2-Amoxicilline sirop 250 mg/ 5ml',\n",
       " 'QOC-PMA-10.3-Artesunate comp 50 mg – amodiaquine 135 mg ou AL',\n",
       " 'QOC-PMA-10.4-Cotrimoxazole comp 480 mg',\n",
       " 'QOC-PMA-10.5-Diazepam 10 mg / 2ml – injectable',\n",
       " 'QOC-PMA-10.6-Fer – acide folique 200 mg + 25 mg',\n",
       " 'QOC-PMA-10.7-Mebendazole comp 100 mg',\n",
       " 'QOC-PMA-10.8-Methergine/syntocinone amp 10 Unités',\n",
       " 'QOC-PMA-10.9-Métronidazole comp 250 mg',\n",
       " 'QOC-PMA-10.10-Paracétamol comp 500 mg',\n",
       " 'QOC-PMA-10.11-Artésunate injectable/Quinine comp et quinine injectable',\n",
       " 'QOC-PMA-10.12-SRO / oral sachet',\n",
       " 'QOC-PMA-10.13-Gants stériles',\n",
       " 'QOC-PMA-10.14-Compresses stériles',\n",
       " 'QOC-PMA-10.15-Solutés glucosé 5%',\n",
       " 'QOC-PMA-3.1-Documents financiers et comptables disponibles et bien tenus',\n",
       " 'QOC-PMA-3.2-Le salaire fixe + prime de performance n’est pas supérieure à 60% du TOTAL des recettes de la FS',\n",
       " 'QOC-PMA-3.3-Système établi du calcul mensuel des primes de performance et connu par le personnel',\n",
       " 'QOC-PMA-17.1-Existence d’un comité d’identification des indigents fonctionnel',\n",
       " 'QOC-PMA-17.2-Les outils du PBF communautaire existe dans la structure',\n",
       " 'QOC-PMA-17.3-Preuve du paiement de la facture des ASC par la FOSA au cours du trimestre',\n",
       " 'QOC-PMA-17.4-Il existe la liste des perdues de vue élaborée par la FOSA et remis aux ASC chaque fin du mois',\n",
       " 'QOC-PMA-17.5-Visite à Domicile',\n",
       " 'QOC-PMA-17.6-Effet VAD sur la fréquentation de la structure',\n",
       " 'QOC-PMA-12.1-Salle pour la petite chirurgie disponible et en bon état',\n",
       " 'QOC-PMA-12.2-Lit d’examen disponible',\n",
       " 'QOC-PMA-12.3-Equipement de base disponible dans la salle',\n",
       " 'QOC-PMA-12.4-Registre de petite chirurgie bien rempli et à jour',\n",
       " 'QOC-PMA-12.5-Conditions d’hygiène assurées dans la salle de petite chirurgie',\n",
       " 'QOC-PMA-6.1-Toutes les consultations PF sont faites par un infirmier IDE au minimum formé en PF complet',\n",
       " 'QOC-PMA-6.2-Local propre disponible garantissant la confidentialité',\n",
       " 'QOC-PMA-6.3-Affiche murale ou boite à image avec les méthodes PF disponible dans la salle pour la démonstration',\n",
       " 'QOC-PMA-6.4-Plan d’action contient une stratégie de couverture Planification Familiale pertinente, relatif à l’amélioration de l’offre et la promotion de la demande',\n",
       " 'QOC-PMA-6.5-Stocks de sécurité des intrants contraceptifs ( DMPA en IM et S/cutané et pilules) disponibles',\n",
       " 'QOC-PMA-6.6-Méthodes DIU disponibles et personnel capable de les placer',\n",
       " 'QOC-PMA-6.7-Méthodes Implants disponibles et personnel capable de les insérer et retirer',\n",
       " 'QOC-PMA-6.8-Condom disponibles (masculin et féminin)',\n",
       " 'QOC-PMA-6.9-Registre de la PF disponible et bien rempli (à jour et rempli à toutes les rubriques) sur les 3 derniers mois sans surcharge',\n",
       " 'QOC-PMA-6.10-Fiche de la PF disponible et bien remplie sans surcharge',\n",
       " 'QOC-PMA-6.11-Les tarifs du recouvrement de coût pour les contraceptifs et les services de PF sont affichés dans la salle de PF au moins',\n",
       " 'QOC-PMA-14.1-Chaine du froid - contrôle régulier de la chaîne de froid et thermomètre présent dans le compartiment du réfrigérateur',\n",
       " 'QOC-PMA-14.10-Registre de PEV bien rempli – ou système de fiches disponible',\n",
       " 'QOC-PMA-14.11-onnes conditions d’attente pour la CPN et la vaccination',\n",
       " 'QOC-PMA-14.12-Remise de jetons numérotés selon l’ordre d’arrivée',\n",
       " 'QOC-PMA-14.13-Disponibilité d’une balance (pèse bébé) en bon état',\n",
       " 'QOC-PMA-14.14-Planning de vaccination disponible et affiché',\n",
       " 'QOC-PMA-14.15-Au moins 90% des séances de vaccination planifiées sur la période ont été réalisées',\n",
       " 'QOC-PMA-14.16-Une liste de perdus de vue incluant les contacts et la localisation des parents est produite chaque mois et remise au relais communautaire pour rattrapage',\n",
       " 'QOC-PMA-14.2-Le responsable de la FOSA connaît calculer ses besoins mensuels en vaccins et intrants',\n",
       " 'QOC-PMA-14.3-Disponibilité des différents vaccins dans la FOSA',\n",
       " 'QOC-PMA-14.4-Les vaccins sont correctement disposés dans le frigo',\n",
       " 'QOC-PMA-14.5-Etat chaîne de froid Frigo à pétrole/gaz : stock d’au moins 14 L : bouteille à gaz Frigo solaire/électrique : batterie en bon état',\n",
       " 'QOC-PMA-14.6-Les accumulateurs de froid sont bien congelés (au moins 6)',\n",
       " 'QOC-PMA-14.7-Existence de seringues',\n",
       " 'QOC-PMA-14.8-Les déchets sont collectés dans des poubelles appropriées avec sac poubelle',\n",
       " 'QOC-PMA-14.9-Stock de carnets ou cartes de croissance PEV & CPS',\n",
       " 'QOC-PMA-16.1-Salle de counseling en bon état',\n",
       " \"QOC-PMA-16.10-Le service dispose d'une procédure standard pour l'identification et le suivi des nourrissons exposés au VIH, des adultes qui ont manqué leur rendez-vous.\",\n",
       " 'QOC-PMA-16.2-Registre de counseling et dépistage volontaire disponible et bien remplis',\n",
       " 'QOC-PMA-16.3-Présence d’une personne formée assurant le counseling en CDV',\n",
       " 'QOC-PMA-16.4-Existence de matériel de prélèvement dans le bureau de counseling (en CPN, salle d’accouchement)',\n",
       " 'QOC-PMA-16.5-Conditions d’hygiène assurées dans la salle de counseling',\n",
       " 'QOC-PMA-16.6-résence de condom masculin et féminin (au moins 10) et du modèle anatomique',\n",
       " 'QOC-PMA-16.7-Stock de sécurité de réactifs disponible',\n",
       " \"QOC-PMA-16.8-Le service dispose d'un stock de sécurité pour les ARV adultes (1ère et 2ème lignes), le cotrimoxazole (comprimés et sirop), les ARV pédiatrique,\",\n",
       " 'QOC-PMA-16.9-Les registres de traitement anti retro viral existent et sont bien remplis']"
      ]
     },
     "execution_count": 35,
     "metadata": {},
     "output_type": "execute_result"
    }
   ],
   "source": [
    "indicateurs_all_cat_list"
   ]
  },
  {
   "cell_type": "code",
   "execution_count": 36,
   "metadata": {},
   "outputs": [],
   "source": [
    "list_facilities = scores['organisationunitname'].unique()"
   ]
  },
  {
   "cell_type": "code",
   "execution_count": 37,
   "metadata": {},
   "outputs": [
    {
     "data": {
      "text/plain": [
       "array(['CMA Ngambe Tikar', 'CSI Doume', 'CSI Kong', 'CSI Linte',\n",
       "       'CSI Mangaï', 'CSI Mankim', 'CSI Minfoumbe', 'CSI Nditam',\n",
       "       'Cabinet de soins Denise Ngambe Tikar',\n",
       "       'Centre Santé les Premices', 'Centre de santé la Grâce de OUE',\n",
       "       \"Centre de santé privé  de l'eglise Lutherienne de Ngambe Tikar\",\n",
       "       'Centre de santé privé EEC Ngambe Tikar',\n",
       "       'Centre de santé privé protestant Yoko', 'Family Health Care',\n",
       "       'Infirmerie de la Prison Yoko'], dtype=object)"
      ]
     },
     "execution_count": 37,
     "metadata": {},
     "output_type": "execute_result"
    }
   ],
   "source": [
    "list_facilities"
   ]
  },
  {
   "cell_type": "code",
   "execution_count": 38,
   "metadata": {},
   "outputs": [],
   "source": [
    "scores.drop(scores[scores['organisationunitname'] == \"Centre de santé la Grâce de OUE\"].index, inplace=True)"
   ]
  },
  {
   "cell_type": "code",
   "execution_count": 39,
   "metadata": {},
   "outputs": [],
   "source": [
    "def get_dataframe(df, list_cat_ind, indicateurs_FOSA_periode_list):\n",
    "    # Slicing dataframe with the desired column\n",
    "    df_new = df[list_cat_ind + indicateurs_FOSA_periode_list]\n",
    "    # Create 2 new columns from 1 other column by slicing the value differently \n",
    "    df_new['Trim'] = df_new['periodcode'].str[-1]\n",
    "    df_new['Year'] = df_new['periodcode'].str[:4]\n",
    "    # Change the column name and return a new dataframe\n",
    "    df_new = df_new.rename(columns=dict_cols)\n",
    "    return df_new"
   ]
  },
  {
   "cell_type": "code",
   "execution_count": 40,
   "metadata": {},
   "outputs": [],
   "source": [
    "def get_dataframe_to_plot(dataframe):\n",
    "    # drop 2 columns and set index with 3 columns\n",
    "    score_df = dataframe.drop(['période', 'Trimestre'], axis=1).set_index(['FOSA', 'Trim', 'Year'])\n",
    "    # get a series by summing each row of all columns\n",
    "    score_series = score_df.sum(axis=1)\n",
    "    # name this series as score\n",
    "    score_series.name = \"score\"\n",
    "    # transform series to dataframe\n",
    "    score_df = score_series.to_frame()\n",
    "    # reset index\n",
    "    score_df = score_df.reset_index()\n",
    "    # return dataframe\n",
    "    return score_df"
   ]
  },
  {
   "cell_type": "code",
   "execution_count": 41,
   "metadata": {},
   "outputs": [],
   "source": [
    "scores_labo = get_dataframe(scores, indicateurs_labo_list, indicateurs_FOSA_periode_list)"
   ]
  },
  {
   "cell_type": "code",
   "execution_count": null,
   "metadata": {},
   "outputs": [],
   "source": []
  }
 ],
 "metadata": {
  "kernelspec": {
   "display_name": "Python 3",
   "language": "python",
   "name": "python3"
  },
  "language_info": {
   "codemirror_mode": {
    "name": "ipython",
    "version": 3
   },
   "file_extension": ".py",
   "mimetype": "text/x-python",
   "name": "python",
   "nbconvert_exporter": "python",
   "pygments_lexer": "ipython3",
   "version": "3.7.1"
  }
 },
 "nbformat": 4,
 "nbformat_minor": 2
}
